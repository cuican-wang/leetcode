{
 "cells": [
  {
   "cell_type": "code",
   "execution_count": 13,
   "metadata": {
    "collapsed": false
   },
   "outputs": [
    {
     "data": {
      "text/plain": [
       "['__class__',\n",
       " '__contains__',\n",
       " '__delattr__',\n",
       " '__delitem__',\n",
       " '__dir__',\n",
       " '__doc__',\n",
       " '__eq__',\n",
       " '__format__',\n",
       " '__ge__',\n",
       " '__getattribute__',\n",
       " '__getitem__',\n",
       " '__gt__',\n",
       " '__hash__',\n",
       " '__init__',\n",
       " '__iter__',\n",
       " '__le__',\n",
       " '__len__',\n",
       " '__lt__',\n",
       " '__ne__',\n",
       " '__new__',\n",
       " '__reduce__',\n",
       " '__reduce_ex__',\n",
       " '__repr__',\n",
       " '__setattr__',\n",
       " '__setitem__',\n",
       " '__sizeof__',\n",
       " '__str__',\n",
       " '__subclasshook__',\n",
       " 'clear',\n",
       " 'copy',\n",
       " 'fromkeys',\n",
       " 'get',\n",
       " 'items',\n",
       " 'keys',\n",
       " 'pop',\n",
       " 'popitem',\n",
       " 'setdefault',\n",
       " 'update',\n",
       " 'values']"
      ]
     },
     "execution_count": 13,
     "metadata": {},
     "output_type": "execute_result"
    }
   ],
   "source": [
    "# dir(list)\n",
    "dir(dict)"
   ]
  },
  {
   "cell_type": "code",
   "execution_count": 15,
   "metadata": {
    "collapsed": false
   },
   "outputs": [
    {
     "name": "stdout",
     "output_type": "stream",
     "text": [
      "Help on built-in function pop:\n",
      "\n",
      "pop(...) method of builtins.list instance\n",
      "    L.pop([index]) -> item -- remove and return item at index (default last).\n",
      "    Raises IndexError if list is empty or index is out of range.\n",
      "\n"
     ]
    }
   ],
   "source": [
    "help(list.pop)"
   ]
  },
  {
   "cell_type": "code",
   "execution_count": 32,
   "metadata": {
    "collapsed": false
   },
   "outputs": [
    {
     "name": "stdout",
     "output_type": "stream",
     "text": [
      "L is list\n"
     ]
    }
   ],
   "source": [
    "L = {}\n",
    "# if type(L) == list:print(\"L is list\")\n",
    "# if type(L)==type([]):print(\"L is list\")\n",
    "if isinstance(L,dict):print(\"L is dictionary\")\n",
    "# help(isinstance)"
   ]
  },
  {
   "cell_type": "code",
   "execution_count": 35,
   "metadata": {
    "collapsed": false
   },
   "outputs": [
    {
     "data": {
      "text/plain": [
       "'None'"
      ]
     },
     "execution_count": 35,
     "metadata": {},
     "output_type": "execute_result"
    }
   ],
   "source": [
    "#--  Python数据类型：哈希类型、不可哈希类型(hashable type & unhashable type)\n",
    "# 哈希类型：即在原地不能改变的变量类型，不可变类型 (immutable type)。可利用hash函数查看其hash值，也可以作为字典的key。\n",
    "# 数字类型：int, float, decimal.Decimal, fractions.Fraction, complex\n",
    "# 字符串类型： str, bytes\n",
    "# 元组： tuple\n",
    "# 冻结集合：frozenset    Frozensets are like sets except that they cannot be changed, i.e. they are immutable:\n",
    "# 布尔类型: True, False\n",
    "# \"None\"\n",
    "#-- Unhashable type:\n",
    "# mutable type: list, dic, set.他们不可以作为字典的key"
   ]
  },
  {
   "cell_type": "code",
   "execution_count": 41,
   "metadata": {
    "collapsed": false
   },
   "outputs": [
    {
     "data": {
      "text/plain": [
       "'\\n数字常量\\n整数：1234， -1234, 0, 999999\\n\\n'"
      ]
     },
     "execution_count": 41,
     "metadata": {},
     "output_type": "execute_result"
    }
   ],
   "source": [
    "'''\n",
    "数字常量\n",
    "整数：1234， -1234, 0, 999999\n",
    "浮点数： 1.23,1.， 4E210\n",
    "八进制、十六进制、二进制问题\n",
    "int(string,base) 将字符串转化为整数，base为进制数\n",
    "2.x中有两种整数类型：一般整数（32位）和长整数（无穷精度）。可以用l或L结尾，迫使一般整数成为长整数\n",
    "float('inf'),float('-inf'),float('nan') 无穷大，无穷小，非数\n",
    "'''\n"
   ]
  },
  {
   "cell_type": "code",
   "execution_count": 47,
   "metadata": {
    "collapsed": false
   },
   "outputs": [
    {
     "name": "stdout",
     "output_type": "stream",
     "text": [
      "True\n",
      "<class 'float'>\n"
     ]
    }
   ],
   "source": [
    "print(float('inf')>999999999999999999999999999999999999999999999999)\n",
    "print(type(float('nan')))"
   ]
  },
  {
   "cell_type": "code",
   "execution_count": 94,
   "metadata": {
    "collapsed": false
   },
   "outputs": [
    {
     "name": "stdout",
     "output_type": "stream",
     "text": [
      "0\n",
      "1\n",
      "4\n",
      "3\n",
      "6\n"
     ]
    }
   ],
   "source": [
    "\n",
    "def createGenerator():\n",
    "    for i in range(3):\n",
    "        yield i**2\n",
    "generator = createGenerator()\n",
    "generator\n",
    "for i in generator:\n",
    "    print(i)\n",
    "\n",
    "a = filter(lambda x:x%3==0,[1,2,3,4,5,6])\n",
    "for i in a:\n",
    "    print(i)\n"
   ]
  }
 ],
 "metadata": {
  "kernelspec": {
   "display_name": "Python [default]",
   "language": "python",
   "name": "python3"
  },
  "language_info": {
   "codemirror_mode": {
    "name": "ipython",
    "version": 3
   },
   "file_extension": ".py",
   "mimetype": "text/x-python",
   "name": "python",
   "nbconvert_exporter": "python",
   "pygments_lexer": "ipython3",
   "version": "3.5.2"
  }
 },
 "nbformat": 4,
 "nbformat_minor": 1
}
