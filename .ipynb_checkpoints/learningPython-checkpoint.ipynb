{
 "cells": [
  {
   "cell_type": "code",
   "execution_count": 13,
   "metadata": {
    "collapsed": false
   },
   "outputs": [
    {
     "data": {
      "text/plain": [
       "['__class__',\n",
       " '__contains__',\n",
       " '__delattr__',\n",
       " '__delitem__',\n",
       " '__dir__',\n",
       " '__doc__',\n",
       " '__eq__',\n",
       " '__format__',\n",
       " '__ge__',\n",
       " '__getattribute__',\n",
       " '__getitem__',\n",
       " '__gt__',\n",
       " '__hash__',\n",
       " '__init__',\n",
       " '__iter__',\n",
       " '__le__',\n",
       " '__len__',\n",
       " '__lt__',\n",
       " '__ne__',\n",
       " '__new__',\n",
       " '__reduce__',\n",
       " '__reduce_ex__',\n",
       " '__repr__',\n",
       " '__setattr__',\n",
       " '__setitem__',\n",
       " '__sizeof__',\n",
       " '__str__',\n",
       " '__subclasshook__',\n",
       " 'clear',\n",
       " 'copy',\n",
       " 'fromkeys',\n",
       " 'get',\n",
       " 'items',\n",
       " 'keys',\n",
       " 'pop',\n",
       " 'popitem',\n",
       " 'setdefault',\n",
       " 'update',\n",
       " 'values']"
      ]
     },
     "execution_count": 13,
     "metadata": {},
     "output_type": "execute_result"
    }
   ],
   "source": [
    "# dir(list)\n",
    "dir(dict)"
   ]
  },
  {
   "cell_type": "code",
   "execution_count": 15,
   "metadata": {
    "collapsed": false
   },
   "outputs": [
    {
     "name": "stdout",
     "output_type": "stream",
     "text": [
      "Help on built-in function pop:\n",
      "\n",
      "pop(...) method of builtins.list instance\n",
      "    L.pop([index]) -> item -- remove and return item at index (default last).\n",
      "    Raises IndexError if list is empty or index is out of range.\n",
      "\n"
     ]
    }
   ],
   "source": [
    "help(list.pop)"
   ]
  },
  {
   "cell_type": "code",
   "execution_count": 32,
   "metadata": {
    "collapsed": false
   },
   "outputs": [
    {
     "name": "stdout",
     "output_type": "stream",
     "text": [
      "L is list\n"
     ]
    }
   ],
   "source": [
    "L = {}\n",
    "# if type(L) == list:print(\"L is list\")\n",
    "# if type(L)==type([]):print(\"L is list\")\n",
    "if isinstance(L,dict):print(\"L is dictionary\")\n",
    "# help(isinstance)"
   ]
  },
  {
   "cell_type": "code",
   "execution_count": 35,
   "metadata": {
    "collapsed": false
   },
   "outputs": [
    {
     "data": {
      "text/plain": [
       "'None'"
      ]
     },
     "execution_count": 35,
     "metadata": {},
     "output_type": "execute_result"
    }
   ],
   "source": [
    "#--  Python数据类型：哈希类型、不可哈希类型(hashable type & unhashable type)\n",
    "# 哈希类型：即在原地不能改变的变量类型，不可变类型 (immutable type)。可利用hash函数查看其hash值，也可以作为字典的key。\n",
    "# 数字类型：int, float, decimal.Decimal, fractions.Fraction, complex\n",
    "# 字符串类型： str, bytes\n",
    "# 元组： tuple\n",
    "# 冻结集合：frozenset    Frozensets are like sets except that they cannot be changed, i.e. they are immutable:\n",
    "# 布尔类型: True, False\n",
    "# \"None\"\n",
    "#-- Unhashable type:\n",
    "# mutable type: list, dic, set.他们不可以作为字典的key"
   ]
  },
  {
   "cell_type": "code",
   "execution_count": 41,
   "metadata": {
    "collapsed": false
   },
   "outputs": [
    {
     "data": {
      "text/plain": [
       "'\\n数字常量\\n整数：1234， -1234, 0, 999999\\n\\n'"
      ]
     },
     "execution_count": 41,
     "metadata": {},
     "output_type": "execute_result"
    }
   ],
   "source": [
    "'''\n",
    "数字常量\n",
    "整数：1234， -1234, 0, 999999\n",
    "浮点数： 1.23,1.， 4E210\n",
    "八进制、十六进制、二进制问题\n",
    "int(string,base) 将字符串转化为整数，base为进制数\n",
    "2.x中有两种整数类型：一般整数（32位）和长整数（无穷精度）。可以用l或L结尾，迫使一般整数成为长整数\n",
    "float('inf'),float('-inf'),float('nan') 无穷大，无穷小，非数\n",
    "'''\n"
   ]
  },
  {
   "cell_type": "code",
   "execution_count": 47,
   "metadata": {
    "collapsed": false
   },
   "outputs": [
    {
     "name": "stdout",
     "output_type": "stream",
     "text": [
      "True\n",
      "<class 'float'>\n"
     ]
    }
   ],
   "source": [
    "print(float('inf')>999999999999999999999999999999999999999999999999)\n",
    "print(type(float('nan')))"
   ]
  },
  {
   "cell_type": "code",
   "execution_count": 23,
   "metadata": {
    "collapsed": false
   },
   "outputs": [
    {
     "name": "stdout",
     "output_type": "stream",
     "text": [
      "0\n",
      "1\n",
      "4\n",
      "3\n",
      "6\n",
      "10\n"
     ]
    },
    {
     "data": {
      "text/plain": [
       "(3, 3.0)"
      ]
     },
     "execution_count": 23,
     "metadata": {},
     "output_type": "execute_result"
    }
   ],
   "source": [
    "\n",
    "def createGenerator():\n",
    "    for i in range(3):\n",
    "        yield i**2\n",
    "generator = createGenerator()\n",
    "generator\n",
    "for i in generator:\n",
    "    print(i)\n",
    "\n",
    "a = filter(lambda x:x%3==0,[1,2,3,4,5,6])\n",
    "for i in a:\n",
    "    print(i)\n",
    "    \n",
    "x,y=10,2\n",
    "print(x if x>0 else x-2)\n",
    "\n",
    "x and y, x or y, not x #?????????????????\n",
    "\n",
    "L = list(range(10))\n",
    "L\n",
    "\n",
    "y=range(10)[slice(0,10,2)]\n",
    "\n",
    "x in y, x not in y\n",
    "\n",
    "x<y[0],x<=y[0],x>y[0],x>=y[0],x==y[0],x!=y[0]\n",
    "\n",
    "1<x<3\n",
    "\n",
    "x|y[0], x&y[0], x^y[0]\n",
    "x<<y[3],x>>y[3]\n",
    "\n",
    "# /, //, %, **        division, floor division, 取余，exponentiation\n",
    "\n",
    "int(3.14), float(3)"
   ]
  },
  {
   "cell_type": "code",
   "execution_count": 25,
   "metadata": {
    "collapsed": false
   },
   "outputs": [
    {
     "name": "stdout",
     "output_type": "stream",
     "text": [
      "1\n"
     ]
    },
    {
     "data": {
      "text/plain": [
       "11"
      ]
     },
     "execution_count": 25,
     "metadata": {},
     "output_type": "execute_result"
    }
   ],
   "source": [
    "#-- use bit_length测试所占的位数\n",
    "a = 1\n",
    "print(a.bit_length())\n",
    "b= 1024\n",
    "b.bit_length()"
   ]
  },
  {
   "cell_type": "code",
   "execution_count": 35,
   "metadata": {
    "collapsed": false
   },
   "outputs": [
    {
     "name": "stdout",
     "output_type": "stream",
     "text": [
      "Object `` not found.\n"
     ]
    }
   ],
   "source": [
    "#-- repr & str\n",
    "????????????/"
   ]
  },
  {
   "cell_type": "code",
   "execution_count": 40,
   "metadata": {
    "collapsed": false
   },
   "outputs": [
    {
     "data": {
      "text/plain": [
       "Decimal('0.03')"
      ]
     },
     "execution_count": 40,
     "metadata": {},
     "output_type": "execute_result"
    }
   ],
   "source": [
    "import decimal\n",
    "from decimal import Decimal\n",
    "decimal.getcontext().prec=4\n",
    "Decimal(\"0.01\")+Decimal(\"0.02\")\n"
   ]
  },
  {
   "cell_type": "code",
   "execution_count": 43,
   "metadata": {
    "collapsed": false
   },
   "outputs": [
    {
     "name": "stdout",
     "output_type": "stream",
     "text": [
      "2/3\n"
     ]
    },
    {
     "data": {
      "text/plain": [
       "Fraction(1, 4)"
      ]
     },
     "execution_count": 43,
     "metadata": {},
     "output_type": "execute_result"
    }
   ],
   "source": [
    "from fractions import Fraction\n",
    "x = Fraction(4,6)\n",
    "print(x)\n",
    "y = Fraction(\"0.25\")\n",
    "y"
   ]
  },
  {
   "cell_type": "code",
   "execution_count": 116,
   "metadata": {
    "collapsed": false
   },
   "outputs": [
    {
     "data": {
      "text/plain": [
       "{1, frozenset({1, 2, 3})}"
      ]
     },
     "execution_count": 116,
     "metadata": {},
     "output_type": "execute_result"
    }
   ],
   "source": [
    "#-- set\n",
    "# set是一个不重复元素集，基本功能包括关系测试和消除重复元素。\n",
    "# set支持union(联合)，intersection(交)，difference（差），symmetric difference（对称差集）等数学运算\n",
    "# set支持x in set, len(set), for x in set\n",
    "# set不记录元素位置或插入点，因此不支持indexing,slicing或其他list的操作\n",
    "s = set([3,5,9,10])\n",
    "t = set([1,2,3,4])\n",
    "a = t|s; t.union(s)\n",
    "b = t&s; t.intersection(s)\n",
    "c = t-s; t.difference(s) #求差集，（项在t中但不在s中）\n",
    "d = t^s; t.symmetric_difference(s) # 对称差集（项在t或s中，但不会同时出现在二者中）\n",
    "t.add(27);t.remove(1)\n",
    "s.update([10,38,27])\n",
    "x in s, x not in t\n",
    "s.issubset(t);s.issuperset(t);\n",
    "a = s.copy()\n",
    "a\n",
    "s.discard(38)\n",
    "s\n",
    "s.clear()\n",
    "s\n",
    "{x**2 for x in t}\n",
    "\n",
    "#-- Frozenset\n",
    "# set是可变的，即不存在hash值，不能作为字典的key。同样还有list，tuple等。\n",
    "# frozenset是不可变对象，即存在hash值，可作为字典的key。\n",
    "# frozenset has no add, remove method. But it has union,intersection,difference methods.\n",
    "\n",
    "a= set([1,2,3])\n",
    "b = set()\n",
    "#b.add(a) # TypeError: unhashable type: 'set'\n",
    "b.add(1)\n",
    "b.add(frozenset(a))\n",
    "b\n",
    "\n",
    "\n"
   ]
  },
  {
   "cell_type": "code",
   "execution_count": 126,
   "metadata": {
    "collapsed": false
   },
   "outputs": [
    {
     "name": "stdout",
     "output_type": "stream",
     "text": [
      "<class 'bool'>\n"
     ]
    },
    {
     "data": {
      "text/plain": [
       "True"
      ]
     },
     "execution_count": 126,
     "metadata": {},
     "output_type": "execute_result"
    }
   ],
   "source": [
    "#-- bool\n",
    "print(type(True))\n",
    "isinstance(False,int) # bool类型居然tmd属于整型\n",
    "True ==1, True is 1\n",
    "1 ==True"
   ]
  },
  {
   "cell_type": "code",
   "execution_count": 137,
   "metadata": {
    "collapsed": false
   },
   "outputs": [
    {
     "name": "stdout",
     "output_type": "stream",
     "text": [
      "[1, 2, 3, 4]\n",
      "[1, 2]\n",
      "[1, 2, 3, 4]\n",
      "[1, 2, 3, 4]\n"
     ]
    }
   ],
   "source": [
    "#-- 动态类型简介\n",
    "# 变量名通过引用，指向对象。\n",
    "# Python中的“类型”属于对象，而不是变量，每个对象都包含有头部信息，比如“类型标示符”“引用计数器”等\n",
    "# 共享引用及在原处修改：对于可变对象，要注意尽量不要共享引用！\n",
    "# 共享引用和相等测试：\n",
    "L = [1]\n",
    "M = [1]\n",
    "L is M #False\n",
    "L == M #True\n",
    "\n",
    "L = M = [1,2,3]\n",
    "L is M\n",
    "\n",
    "# 增强赋值和共享引用：普通+号会生成新的对象，而增强赋值+=会在原处修改\n",
    "L = M = [1,2]\n",
    "L = L + [3,4]\n",
    "print(L) # [1,2,3,4]\n",
    "print(M) # [1,2]\n",
    "\n",
    "L = M = [1,2]\n",
    "L +=[3,4]\n",
    "print(L) # [1,2,3,4]\n",
    "print(M) # [1,2,3,4]"
   ]
  },
  {
   "cell_type": "code",
   "execution_count": 195,
   "metadata": {
    "collapsed": false
   },
   "outputs": [
    {
     "name": "stdout",
     "output_type": "stream",
     "text": [
      "0\n",
      "1\n",
      "2\n",
      "3\n",
      "4\n",
      "5\n",
      "6\n",
      "7\n",
      "8\n",
      "9\n"
     ]
    },
    {
     "data": {
      "text/plain": [
       "'a-b-c'"
      ]
     },
     "execution_count": 195,
     "metadata": {},
     "output_type": "execute_result"
    }
   ],
   "source": [
    "#-- 常见字符串常量及表达式\n",
    "S = ''\n",
    "S = \"spam's\"\n",
    "S = \"s\\np\\tam\"\n",
    "S = \"\"\"spam\"\"\" #三重引号字符串，一般用于函数说明\n",
    "S = r'\\temp'\n",
    "S = b'Spam' #????????\n",
    "s1 = 'hi,'\n",
    "s2 = 'lenny how are you?'\n",
    "s1+s2\n",
    "s1*3\n",
    "s1[0]\n",
    "s2[2:] # 'nny'\n",
    "s2[:5] # 'lenny'从左数5个字符\n",
    "s2[:-1] # 'lenny how are you' 从右起删除字符\n",
    "s2[::-1] # '?uoy era woh ynnel' 从右起第一个字符输出字符，间隔abs(n)-1个字符\n",
    "s2[::-2] # '?o r o ne' \n",
    "s2[2::] # 'nny how are you?'  两个冒号代表贯穿整个字符串的意思\n",
    "s2 = [0,1,2,3,4,5,6,7,8,9]\n",
    "s2[2::2] # [2, 4, 6, 8] 冒号右边的代表间隔\n",
    "\n",
    "'a %s parrot' %'kind' # 字符串格式化表达式 'a kind parrot'\n",
    "'a {0} parrot'.format('kind') #字符串格式化方法 'a kind parrot'\n",
    "\n",
    "for x in s2: print(x)\n",
    "    \n",
    "[x*2 for x in s2] # [0, 2, 4, 6, 8, 10, 12, 14, 16, 18]\n",
    "\n",
    "','.join(['a','b','c']) # 'a,b,c' 字符串输出\n",
    "'-'.join(['a','b','c']) # 'a-b-c'\n"
   ]
  },
  {
   "cell_type": "code",
   "execution_count": 242,
   "metadata": {
    "collapsed": false
   },
   "outputs": [
    {
     "data": {
      "text/plain": [
       "False"
      ]
     },
     "execution_count": 242,
     "metadata": {},
     "output_type": "execute_result"
    }
   ],
   "source": [
    "# 内置string处理函数：\n",
    "str1 = \"stringobject\"\n",
    "str1.upper() #'STRINGOBJECT' 全部大写\n",
    "str1 = 'STRINGOBJECT'\n",
    "str1.lower() #'stringobject' 全部小写\n",
    "str1.swapcase() # 'stringobject'\n",
    "str1 = 'stringobject test'\n",
    "str1.swapcase() # 'STRINGOBJECT' 大小写转换\n",
    "str1.capitalize() # 'Stringobject' 首字母大写\n",
    "str1.title() # 'Stringobject Test' 每个单词首字母大写\n",
    "str1.find('t',0,16) # 1 查找字符串 指定起始及结束位置搜索，貌似只能查到第一个？\n",
    "str1.rfind('t') # 16 从右边开始查找\n",
    "str1.count('t') # 4 查找字符串出现的次数\n",
    "#------------------------------------------------------------------------------------------------------\n",
    "str1.replace('t','-',2) # 's-ringobjec- test' 指定替换次数为2的替换\n",
    "str1.strip()\n",
    "str1.lstrip()\n",
    "str1.rstrip()\n",
    "str1.strip('t')\n",
    "str1.lstrip('t')\n",
    "str1.rstrip('t') #????????????????????//\n",
    "str1.startswith('str') #True 是否以 'str'开头\n",
    "str1.endswith('est') # True 是否以 'est'结尾\n",
    "str1.isalnum()\n",
    "str1.isalpha()\n",
    "str1.isdigit()\n",
    "str1.islower()\n",
    "str1.isupper()"
   ]
  },
  {
   "cell_type": "code",
   "execution_count": 258,
   "metadata": {
    "collapsed": false
   },
   "outputs": [
    {
     "data": {
      "text/plain": [
       "'etts\\n'"
      ]
     },
     "execution_count": 258,
     "metadata": {},
     "output_type": "execute_result"
    }
   ],
   "source": [
    "#--三重引号编写多行字符串块，并且在代码换行处嵌入换行字符\\n\n",
    "t = \"\"\"test\n",
    "test\n",
    "test\n",
    "\"\"\"\n",
    "t # 'test\\ntest\\ntest\\n'\n",
    "\n",
    "#--索引和分片：\n",
    "#索引：\n",
    "t[0]\n",
    "t[len(t)-1]\n",
    "t[-1] # '\\n' 这个占一个index\n",
    "\n",
    "#分片，第三个参数指定步长\n",
    "t[1:3]\n",
    "t[1:]\n",
    "t[:-1]\n",
    "t[1:10:2]"
   ]
  },
  {
   "cell_type": "code",
   "execution_count": 281,
   "metadata": {
    "collapsed": false,
    "scrolled": false
   },
   "outputs": [
    {
     "data": {
      "text/plain": [
       "'lennywang'"
      ]
     },
     "execution_count": 281,
     "metadata": {},
     "output_type": "execute_result"
    }
   ],
   "source": [
    "#-- 字符串转换工具：\n",
    "int('27')\n",
    "str(27)\n",
    "float('7.27')\n",
    "str(7.27)\n",
    "ord('c') # 99 return an integer representing the Unicode code point of the character \n",
    "#when the argument is a unicode object, or the value of the byte when the argument is an 8-bit string.\n",
    "chr(99) # 'c'  chr(i) Return a string of one character whose ASCII code is the integer i.\n",
    "\n",
    "int('1001',2) # 将字符串作为二进制数字转化为数字 9\n",
    "bin(13) # '0b1101'  binary\n",
    "oct(13) # '0o15'    octonary 八进制\n",
    "hex(13) # '0xd'     hexadecimal 十六进制\n",
    "\n",
    "#-- 另类字符串连接\n",
    "name = \"lenny\"    \"wang\"\n",
    "name # 'lennywang' no matter how many spaces between them\n",
    "name = \"lenny\"\\\n",
    "\"wang\"\n",
    "name # 'lennywang'\n"
   ]
  },
  {
   "cell_type": "code",
   "execution_count": 306,
   "metadata": {
    "collapsed": false
   },
   "outputs": [
    {
     "data": {
      "text/plain": [
       "'lennywang is 21'"
      ]
     },
     "execution_count": 306,
     "metadata": {},
     "output_type": "execute_result"
    }
   ],
   "source": [
    "#-- python中的字符串格式化实现\n",
    "#1--字符串格式化表达式\n",
    "\"\"\"\n",
    "基于c语言的‘print’模型，并且在大多数的现有的语言中使用。\n",
    "通用结构：%[(name)][flag][width].[precision]typecode\n",
    "\"\"\"\n",
    "\n",
    "\"this is %d %s bird\" %(1, 2) #'this is 1 dead bird'  guess %d d means digit\n",
    "\"%s---%s---%s\"%(42,3.14,[1,2,3]) # '42---3.14---[1, 2, 3]'\n",
    "\"%d...%6d...%-6d...%06d\" %(1234,1234,1234,1234) #对齐方式及填充\n",
    "x = 123456789\n",
    "\"%e | %f | %g\" %(x,x,x) # '1.234568e+08 | 123456789.000000 | 1.23457e+08'  %g means 指数(e)或浮点数\n",
    "x = 1.23456789\n",
    "\"%6.2f*%-6.2f*%06.2f*%+6.2f\" % (x,x,x,x)\n",
    "\"%(name1)d---%(name2)s\"%{\"name1\":23,\"name2\":\"value2\"} #基于字典的格式化表达式\n",
    "name = \"lenny\" \"wang\"\n",
    "age = 21\n",
    "\"%(name)s is %(age)d\" % locals()# equals to vars() here. Result is 'lennywang is 21'.\n"
   ]
  },
  {
   "cell_type": "code",
   "execution_count": 323,
   "metadata": {
    "collapsed": false
   },
   "outputs": [
    {
     "ename": "SyntaxError",
     "evalue": "invalid syntax (<ipython-input-323-0f4133e09806>, line 17)",
     "output_type": "error",
     "traceback": [
      "\u001b[0;36m  File \u001b[0;32m\"<ipython-input-323-0f4133e09806>\"\u001b[0;36m, line \u001b[0;32m17\u001b[0m\n\u001b[0;31m    \"{fieldname:format_spec}\".format(......)\u001b[0m\n\u001b[0m                                          ^\u001b[0m\n\u001b[0;31mSyntaxError\u001b[0m\u001b[0;31m:\u001b[0m invalid syntax\n"
     ]
    }
   ],
   "source": [
    "#-- Python中的字符串格式化实现2--字符串格式化调用方法\n",
    "#普通调用\n",
    "\"{0},{1} and {2}\".format('Me the represent of',\"cc\",\"superman\")  # 'Me the represent of,cc and superman'\n",
    "\"{motto} and {pork}\".format(motto = 'cc',pork = 'lenny')  # 'cc and lenny'\n",
    "#\"{motto} and {0}\".format('lenny',0 = 'cc') #?? this will give error:\n",
    "# keyword can't be an expression\n",
    "\"{motto} and {0}\".format('lenny',motto = 'cc') # This is right. 'cc and lenny' Maybe 0 means index and motto means key?\n",
    "\n",
    "#--添加键，属性和偏移量\n",
    "import sys\n",
    "\"my {1[spam]} runs {0.platform}\".format(sys,{'spam':'laptop'})  # 'my laptop runs win32'\n",
    "#print(sys.platform) # win32\n",
    "\n",
    "\"{config[spam]} {sys.platform}\".format(sys = sys, config = {'spam':'laptop'})  # 'laptop win32'\n",
    "\"first = {0[0]}, second = {0[1]}\".format(['A','B','C'])\n",
    "\n",
    "#\"{fieldname:format_spec}\".format(......)   WTF.."
   ]
  }
 ],
 "metadata": {
  "anaconda-cloud": {},
  "kernelspec": {
   "display_name": "Python [default]",
   "language": "python",
   "name": "python3"
  },
  "language_info": {
   "codemirror_mode": {
    "name": "ipython",
    "version": 3
   },
   "file_extension": ".py",
   "mimetype": "text/x-python",
   "name": "python",
   "nbconvert_exporter": "python",
   "pygments_lexer": "ipython3",
   "version": "3.5.2"
  }
 },
 "nbformat": 4,
 "nbformat_minor": 1
}
